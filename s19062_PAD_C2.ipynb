{
  "nbformat": 4,
  "nbformat_minor": 0,
  "metadata": {
    "colab": {
      "provenance": []
    },
    "kernelspec": {
      "name": "python3",
      "display_name": "Python 3"
    },
    "language_info": {
      "name": "python"
    }
  },
  "cells": [
    {
      "cell_type": "markdown",
      "source": [
        "**Zadanie 1**\n",
        "\n",
        "Korzystając z poniższego kodu oraz pliku president_heights.csv utwórz tablicę zawierającą wzrost prezydentów USA..."
      ],
      "metadata": {
        "id": "6zKb0dR7thqX"
      }
    },
    {
      "cell_type": "code",
      "source": [
        "import pandas as pd\n",
        "import numpy as np\n",
        "\n",
        "data = pd.read_csv('president_heights.csv')\n",
        "heights = np.array(data['height(cm)'])\n",
        "print(heights)\n",
        "\n",
        "print(\"Mean height:         \", heights.mean())\n",
        "print(\"Standard deviation:  \", heights.std())\n",
        "print(\"Minimum height:      \", heights.min())\n",
        "print(\"Maximum height:      \", heights.max())\n",
        "print(\"25th percentile:     \", np.percentile(heights, 25))\n",
        "print(\"Median:              \", np.median(heights))\n",
        "print(\"25th percentile:     \", np.percentile(heights, 75))"
      ],
      "metadata": {
        "colab": {
          "base_uri": "https://localhost:8080/"
        },
        "id": "wlM-2u-DtpjV",
        "outputId": "56e764ac-1f50-47c4-8ab3-cf363ad9989d"
      },
      "execution_count": 5,
      "outputs": [
        {
          "output_type": "stream",
          "name": "stdout",
          "text": [
            "[189 170 189 163 183 171 185 168 173 183 173 173 175 178 183 193 178 173\n",
            " 174 183 183 168 170 178 182 180 183 178 182 188 175 179 183 193 182 183\n",
            " 177 185 188 188 182 185]\n",
            "Mean height:          179.73809523809524\n",
            "Standard deviation:   6.931843442745892\n",
            "Minimum height:       163\n",
            "Maximum height:       193\n",
            "25th percentile:      174.25\n",
            "Median:               182.0\n",
            "25th percentile:      183.0\n"
          ]
        }
      ]
    },
    {
      "cell_type": "markdown",
      "source": [
        "**Zadanie 2**\n",
        "\n",
        "Wgraj dane z pliku Zadanie_2.csv.\n",
        "1. Znajdź wektory własne, oraz wartości własne dla zawartej w pliku macierzy\n",
        "2. Oblicz macierz odwrotną dla macierzy z pliku"
      ],
      "metadata": {
        "id": "25Djjif1ubJI"
      }
    },
    {
      "cell_type": "code",
      "execution_count": 10,
      "metadata": {
        "colab": {
          "base_uri": "https://localhost:8080/"
        },
        "id": "XZ046ICftRll",
        "outputId": "809fc727-c454-4043-e18a-7668360dad0a"
      },
      "outputs": [
        {
          "output_type": "stream",
          "name": "stdout",
          "text": [
            "wartości wlasne i wektory wlasne\n",
            "[104.34960192 +0.j         -23.35660516+18.84992811j\n",
            " -23.35660516-18.84992811j  15.92989017 +0.j\n",
            "  -4.99456452 +0.j           0.35205717 +5.80125175j\n",
            "   0.35205717 -5.80125175j  -1.03383491 +0.j\n",
            "   3.87900166 +1.42651533j   3.87900166 -1.42651533j] [[-0.29000475+0.j         -0.07545445+0.07743149j -0.07545445-0.07743149j\n",
            "  -0.03544485+0.j          0.42681634+0.j         -0.22172831-0.29869259j\n",
            "  -0.22172831+0.29869259j  0.41343726+0.j         -0.28670255+0.21891569j\n",
            "  -0.28670255-0.21891569j]\n",
            " [-0.24163153+0.j          0.41229621+0.09197324j  0.41229621-0.09197324j\n",
            "   0.45873475+0.j         -0.27056206+0.j         -0.01331344+0.1422557j\n",
            "  -0.01331344-0.1422557j  -0.31591047+0.j          0.41954481-0.10561864j\n",
            "   0.41954481+0.10561864j]\n",
            " [-0.41060573+0.j          0.37509638-0.00960818j  0.37509638+0.00960818j\n",
            "   0.64067986+0.j         -0.37967609+0.j         -0.60525232+0.j\n",
            "  -0.60525232-0.j          0.6457768 +0.j          0.63631555+0.j\n",
            "   0.63631555-0.j        ]\n",
            " [-0.18899971+0.j         -0.05624951+0.174848j   -0.05624951-0.174848j\n",
            "   0.25174536+0.j         -0.07625465+0.j         -0.14870016-0.00795735j\n",
            "  -0.14870016+0.00795735j  0.15206852+0.j          0.21373907+0.00228636j\n",
            "   0.21373907-0.00228636j]\n",
            " [-0.42862199+0.j          0.47707538+0.14580554j  0.47707538-0.14580554j\n",
            "   0.39445834+0.j         -0.69542141+0.j          0.07336021-0.43070469j\n",
            "   0.07336021+0.43070469j -0.25948775+0.j          0.20250102-0.00411374j\n",
            "   0.20250102+0.00411374j]\n",
            " [-0.14730562+0.j         -0.57352911+0.j         -0.57352911-0.j\n",
            "   0.10071325+0.j          0.30158403+0.j         -0.04758838+0.12911829j\n",
            "  -0.04758838-0.12911829j  0.21274791+0.j         -0.1503483 +0.03452906j\n",
            "  -0.1503483 -0.03452906j]\n",
            " [-0.34660607+0.j         -0.13987374+0.06837303j -0.13987374-0.06837303j\n",
            "  -0.04800705+0.j          0.06798106+0.j          0.00512204+0.04215641j\n",
            "   0.00512204-0.04215641j  0.05365357+0.j         -0.0534517 +0.00550802j\n",
            "  -0.0534517 -0.00550802j]\n",
            " [-0.34919853+0.j         -0.08414467+0.07749664j -0.08414467-0.07749664j\n",
            "   0.25925893+0.j         -0.10039982+0.j         -0.06761437-0.25584347j\n",
            "  -0.06761437+0.25584347j -0.38214447+0.j          0.29485109-0.01300678j\n",
            "   0.29485109+0.01300678j]\n",
            " [-0.2440048 +0.j         -0.13777908+0.00402196j -0.13777908-0.00402196j\n",
            "   0.27709282+0.j         -0.00524365+0.j          0.21866893+0.04463336j\n",
            "   0.21866893-0.04463336j -0.12045798+0.j          0.27558332+0.02285482j\n",
            "   0.27558332-0.02285482j]\n",
            " [-0.38231403+0.j         -0.00476199+0.03456836j -0.00476199-0.03456836j\n",
            "   0.04918165+0.j          0.07322815+0.j          0.1819345 -0.29687727j\n",
            "   0.1819345 +0.29687727j -0.11445044+0.j          0.02830199+0.00579727j\n",
            "   0.02830199-0.00579727j]]\n",
            "macierz odwrotna\n",
            "[[ 0.47461371  0.13269253 -0.24726695 -0.82965177  0.28250384 -0.17012825\n",
            "   0.58274426  0.83686705  0.4146721  -1.56942847]\n",
            " [-0.38032531 -0.11226789  0.23216372  0.58853747 -0.2508954   0.10174485\n",
            "  -0.40729564 -0.58325689 -0.2335154   1.11832726]\n",
            " [ 0.13559662  0.58950334 -0.24709855 -0.58789838 -0.30170699 -0.12721938\n",
            "   0.23740295  1.01003036 -0.02151387 -0.64590149]\n",
            " [ 0.01425207  0.14570726 -0.04557569 -0.12721972 -0.08945184 -0.03756624\n",
            "   0.03910376  0.23606066 -0.01436771 -0.11345749]\n",
            " [-0.09473246  0.01725249  0.19145597  0.32960274 -0.28626296  0.08348529\n",
            "  -0.37577603 -0.27295934 -0.25855803  0.74691827]\n",
            " [ 0.16387032  0.10075684 -0.15404907 -0.29794662  0.16916877 -0.02827782\n",
            "   0.20469921  0.28036265  0.15086178 -0.5882585 ]\n",
            " [ 0.04288003  0.02246462 -0.0366803  -0.09024915  0.04322146 -0.01047861\n",
            "   0.06167348  0.07009721  0.0367806  -0.14185925]\n",
            " [-0.26858433 -0.21167346  0.25168367  0.55607234 -0.16804333  0.01066975\n",
            "  -0.22435849 -0.52957038 -0.15757224  0.77302113]\n",
            " [-0.15583541 -0.13041404  0.0984558   0.3150966  -0.09916278 -0.04426337\n",
            "  -0.20832614 -0.18404388 -0.04309498  0.45794224]\n",
            " [-0.05970783 -0.11342903  0.09122544  0.11908074 -0.00311646  0.02370807\n",
            "  -0.07526552 -0.06924544 -0.10963836  0.16553689]]\n"
          ]
        }
      ],
      "source": [
        "data = pd.read_csv('Zadanie_2.csv', header=None, sep=';')\n",
        "mx = np.matrix(data)\n",
        "\n",
        "wart_wlasne, wektory_wlasne = np.linalg.eig(mx)\n",
        "\n",
        "print('wartości wlasne i wektory wlasne')\n",
        "print(wart_wlasne, wektory_wlasne)\n",
        "\n",
        "m_odwrotna = np.linalg.inv(mx)\n",
        "print('macierz odwrotna')\n",
        "print(m_odwrotna)\n"
      ]
    },
    {
      "cell_type": "markdown",
      "source": [
        "**Zadanie 3**\n",
        "\n",
        "Plik Seattle2014.csv zawiera informacje o rocznych opadach w Seattle w 2014. Wykorzystaj kod poniżej aby wczytać plik...."
      ],
      "metadata": {
        "id": "Wrb7DAKYv-vK"
      }
    },
    {
      "cell_type": "code",
      "source": [
        "rainfall = pd.read_csv('Seattle2014.csv')['PRCP'].values\n",
        "inches = rainfall / 254.0\n",
        "inches.shape\n",
        "\n",
        "%matplotlib inline\n",
        "import matplotlib.pyplot as plt\n",
        "import seaborn; seaborn.set()\n",
        "plt.hist(inches)\n",
        "\n",
        "print(\"Number of days without rain:     \", len(inches[np.where(inches == 0.0)]))\n",
        "print(\"Number of days with rain:        \", len(inches[np.where(inches > 0.0)]))\n",
        "print(\"Days with more than 0.5 inches:  \", len(inches[np.where(inches > 0.5)]))\n",
        "print(\"Rainy days with < 0.2 inches:    \", len(inches[np.where((0.2 > inches) & (inches > 0.0))]))\n",
        "\n",
        "\n",
        "print(\"Median precip on rainy days in 2014 (inches):   \", np.median(inches[np.where(inches > 0.0)]))\n",
        "print(\"Median precip on summer days in 2014 (inches):  \", np.median(inches[172:262]))\n",
        "print(\"Maximum precip on summer days in 2014 (inches): \", np.max(inches[172:262]))\n",
        "\n",
        "non_summer = np.concatenate([inches[:172], inches[262:]])\n",
        "\n",
        "print(\"Median precip on non-summer rainy days (inches):\", np.median(non_summer[np.where(non_summer > 0.0)]))\n"
      ],
      "metadata": {
        "colab": {
          "base_uri": "https://localhost:8080/",
          "height": 408
        },
        "id": "Ycs_SXiNwIIw",
        "outputId": "359f6127-7846-4d86-c50a-884e9215bd5f"
      },
      "execution_count": 21,
      "outputs": [
        {
          "output_type": "stream",
          "name": "stdout",
          "text": [
            "Number of days without rain:      215\n",
            "Number of days with rain:         150\n",
            "Days with more than 0.5 inches:   37\n",
            "Rainy days with < 0.2 inches:     75\n",
            "Median precip on rainy days in 2014 (inches):    0.19488188976377951\n",
            "Median precip on summer days in 2014 (inches):   0.0\n",
            "Maximum precip on summer days in 2014 (inches):  0.8503937007874016\n",
            "Median precip on non-summer rainy days (inches): 0.20078740157480315\n"
          ]
        },
        {
          "output_type": "display_data",
          "data": {
            "text/plain": [
              "<Figure size 432x288 with 1 Axes>"
            ],
            "image/png": "[encoded data removed]"
          },
          "metadata": {}
        }
      ]
    },
    {
      "cell_type": "markdown",
      "source": [
        "**Zadanie 4**\n",
        "\n",
        "Operacje na wektorach"
      ],
      "metadata": {
        "id": "Fq8mX_Z4yTkd"
      }
    },
    {
      "cell_type": "code",
      "source": [
        "A = [0,3,2,5]\n",
        "B = [0,3,1,4]"
      ],
      "metadata": {
        "id": "TCgJkzJryXyo"
      },
      "execution_count": 22,
      "outputs": []
    },
    {
      "cell_type": "code",
      "source": [
        "print(np.add(A, B))\n",
        "print(np.subtract(A, B))\n",
        "print(np.multiply(A, 4))\n",
        "print(np.dot(A, B))\n",
        "print(np.linalg.norm(B))"
      ],
      "metadata": {
        "colab": {
          "base_uri": "https://localhost:8080/"
        },
        "id": "iKA4gpYaydRJ",
        "outputId": "5ddc2ba4-6b1b-429d-d550-ca820ed200b1"
      },
      "execution_count": 27,
      "outputs": [
        {
          "output_type": "stream",
          "name": "stdout",
          "text": [
            "[0 6 3 9]\n",
            "[0 0 1 1]\n",
            "[ 0 12  8 20]\n",
            "31\n",
            "5.0990195135927845\n"
          ]
        }
      ]
    }
  ]
}